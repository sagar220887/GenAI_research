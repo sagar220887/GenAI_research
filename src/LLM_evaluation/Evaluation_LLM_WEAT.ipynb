{
 "cells": [
  {
   "cell_type": "markdown",
   "id": "20c24454",
   "metadata": {},
   "source": [
    "### WEAT - Word Embeddings Associate Test\n",
    "- Word Embeddings(Word2vec, GloVe, )"
   ]
  },
  {
   "cell_type": "code",
   "execution_count": 5,
   "id": "2823b2ea",
   "metadata": {},
   "outputs": [],
   "source": [
    "import numpy as np \n",
    "from sklearn.metrics.pairwise import cosine_similarity"
   ]
  },
  {
   "cell_type": "code",
   "execution_count": 6,
   "id": "430ce72b",
   "metadata": {},
   "outputs": [],
   "source": [
    "word_embeddings = {\n",
    "    'doctor': np.array([0.1, 0.3, 0.5]),\n",
    "    'engineer': np.array([0.2, 0.4, 0.2]),\n",
    "    'scientist': np.array([0.3, 0.1, 0.4]),\n",
    "    'nurse': np.array([0.5, 0.1, 0.3]),\n",
    "    'teacher': np.array([0.4, 0.2, 0.1]),\n",
    "    'receptionist': np.array([0.3, 0.4, 0.3]),\n",
    "    'man': np.array([0.5, 0.5, 0.5]),   \n",
    "    'male': np.array([0.5, 0.4, 0.5]),\n",
    "    'boy': np.array([0.5, 0.5, 0.4]),\n",
    "    'woman': np.array([0.5, 0.2, 0.3]),\n",
    "    'female': np.array([0.5, 0.3, 0.3]),\n",
    "    'girl': np.array([0.5, 0.3, 0.4])\n",
    "}"
   ]
  },
  {
   "cell_type": "markdown",
   "id": "7ead8c7d",
   "metadata": {},
   "source": [
    "### Defining Word Sets\n",
    " - X and Y are target word sets. In our example, they represent different occupations.\n",
    " - mA and B are attribute word sets, representing gender terms in this case."
   ]
  },
  {
   "cell_type": "code",
   "execution_count": 7,
   "id": "b3c681cb",
   "metadata": {},
   "outputs": [],
   "source": [
    "#let's define the sets\n",
    "X = ['doctor', 'engineer', 'scientist']\n",
    "Y = ['nurse', 'teacher', 'receptionist']\n",
    "A = ['man', 'male', 'boy']\n",
    "B = ['woman', 'female', 'girl']"
   ]
  },
  {
   "cell_type": "code",
   "execution_count": 16,
   "id": "1559557a",
   "metadata": {},
   "outputs": [],
   "source": [
    "def s(w, X, Y):\n",
    "    cosine_similarity_w_with_x = [cosine_similarity(word_embeddings[w].reshape(1, -1), word_embeddings[x].reshape(1, -1)) for x in X]\n",
    "    print('cosine_similarity_w_with_x - ', cosine_similarity_w_with_x)\n",
    "    cosine_similarity_w_with_y = [cosine_similarity(word_embeddings[w].reshape(1, -1), word_embeddings[y].reshape(1, -1)) for y in Y]\n",
    "    print('cosine_similarity_w_with_y - ', cosine_similarity_w_with_y)\n",
    "    return sum(cosine_similarity_w_with_x) - cosine_similarity_w_with_y\n",
    "\n",
    "\n",
    "# def s(w, X, Y):\n",
    "#     return sum([cosine_similarity(word_embeddings[w].reshape(1, -1), word_embeddings[x].reshape(1, -1)) for x in X]) - ([cosine_similarity(word_embeddings[w].reshape(1, -1), word_embeddings[y].reshape(1, -1)) for y in Y])"
   ]
  },
  {
   "cell_type": "code",
   "execution_count": 17,
   "id": "04e93853",
   "metadata": {},
   "outputs": [
    {
     "name": "stdout",
     "output_type": "stream",
     "text": [
      "cosine_similarity_w_with_x -  [array([[0.87831007]]), array([[0.94280904]]), array([[0.90582163]])]\n",
      "cosine_similarity_w_with_y -  [array([[0.87831007]]), array([[0.8819171]]), array([[0.99014754]])]\n",
      "cosine_similarity_w_with_x -  [array([[0.8738629]]), array([[0.90453403]]), array([[0.94146887]])]\n",
      "cosine_similarity_w_with_y -  [array([[0.91547542]]), array([[0.88640526]]), array([[0.97106076]])]\n",
      "cosine_similarity_w_with_x -  [array([[0.83225038]]), array([[0.95478592]]), array([[0.86904819]])]\n",
      "cosine_similarity_w_with_y -  [array([[0.8738629]]), array([[0.91326603]]), array([[0.99217078]])]\n",
      "cosine_similarity_w_with_x -  [array([[0.71293105]]), array([[0.79471941]]), array([[0.92261291]])]\n",
      "cosine_similarity_w_with_y -  [array([[0.98713529]]), array([[0.95578964]]), array([[0.89026381]])]\n",
      "cosine_similarity_w_with_x -  [array([[0.74753193]]), array([[0.87160193]]), array([[0.89722291]])]\n",
      "cosine_similarity_w_with_y -  [array([[0.95374764]]), array([[0.96505957]]), array([[0.94151841]])]\n",
      "cosine_similarity_w_with_x -  [array([[0.81275545]]), array([[0.8660254]]), array([[0.94299033]])]\n",
      "cosine_similarity_w_with_y -  [array([[0.95618289]]), array([[0.9258201]]), array([[0.94588894]])]\n"
     ]
    }
   ],
   "source": [
    "WEAT_score = sum([s(a, X, Y) for a in A]) - sum([s(b, X, Y) for b in B])"
   ]
  },
  {
   "cell_type": "code",
   "execution_count": 15,
   "id": "25be9506",
   "metadata": {},
   "outputs": [
    {
     "name": "stdout",
     "output_type": "stream",
     "text": [
      "WEAT score: [[[0.76391714]]\n",
      "\n",
      " [[0.69958063]]\n",
      "\n",
      " [[0.35879178]]]\n"
     ]
    }
   ],
   "source": [
    "print(f\"WEAT score: {WEAT_score}\")"
   ]
  },
  {
   "cell_type": "code",
   "execution_count": 18,
   "id": "7cc24d73",
   "metadata": {},
   "outputs": [
    {
     "name": "stdout",
     "output_type": "stream",
     "text": [
      "WEAT score: 0.25109671349724283\n"
     ]
    }
   ],
   "source": [
    "import numpy as np\n",
    "from sklearn.metrics.pairwise import cosine_similarity\n",
    "\n",
    "# Given word embeddings\n",
    "word_embeddings = {\n",
    "    'doctor': np.array([0.1, 0.3, 0.5]),\n",
    "    'engineer': np.array([0.2, 0.4, 0.2]),\n",
    "    'scientist': np.array([0.3, 0.1, 0.4]),\n",
    "    'nurse': np.array([0.5, 0.1, 0.3]),\n",
    "    'teacher': np.array([0.4, 0.2, 0.1]),\n",
    "    'receptionist': np.array([0.3, 0.4, 0.3]),\n",
    "    'man': np.array([0.5, 0.5, 0.5]),\n",
    "    'male': np.array([0.5, 0.4, 0.5]),\n",
    "    'boy': np.array([0.5, 0.5, 0.4]),\n",
    "    'woman': np.array([0.5, 0.2, 0.3]),\n",
    "    'female': np.array([0.5, 0.3, 0.3]),\n",
    "    'girl': np.array([0.5, 0.3, 0.4])\n",
    "}\n",
    "\n",
    "# Define our sets\n",
    "X = ['doctor', 'engineer', 'scientist']\n",
    "Y = ['nurse', 'teacher', 'receptionist']\n",
    "A = ['man', 'male', 'boy']\n",
    "B = ['woman', 'female', 'girl']\n",
    "\n",
    "def s(w, X, Y):\n",
    "    sim_X = np.mean([cosine_similarity(word_embeddings[w].reshape(1, -1), word_embeddings[x].reshape(1, -1)) for x in X])\n",
    "    sim_Y = np.mean([cosine_similarity(word_embeddings[w].reshape(1, -1), word_embeddings[y].reshape(1, -1)) for y in Y])\n",
    "    return sim_X - sim_Y\n",
    "\n",
    "WEAT_score = sum([s(a, X, Y) for a in A]) - sum([s(b, X, Y) for b in B])\n",
    "print(f\"WEAT score: {WEAT_score}\")"
   ]
  },
  {
   "cell_type": "code",
   "execution_count": null,
   "id": "020ab0d5",
   "metadata": {},
   "outputs": [],
   "source": []
  },
  {
   "cell_type": "code",
   "execution_count": null,
   "id": "463d8bb6",
   "metadata": {},
   "outputs": [],
   "source": []
  },
  {
   "cell_type": "code",
   "execution_count": null,
   "id": "43ba8d53",
   "metadata": {},
   "outputs": [],
   "source": []
  },
  {
   "cell_type": "code",
   "execution_count": null,
   "id": "964ad584",
   "metadata": {},
   "outputs": [],
   "source": []
  }
 ],
 "metadata": {
  "kernelspec": {
   "display_name": "Python 3 (ipykernel)",
   "language": "python",
   "name": "python3"
  },
  "language_info": {
   "codemirror_mode": {
    "name": "ipython",
    "version": 3
   },
   "file_extension": ".py",
   "mimetype": "text/x-python",
   "name": "python",
   "nbconvert_exporter": "python",
   "pygments_lexer": "ipython3",
   "version": "3.11.8"
  }
 },
 "nbformat": 4,
 "nbformat_minor": 5
}
