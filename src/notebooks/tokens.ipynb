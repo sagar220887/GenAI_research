{
 "cells": [
  {
   "cell_type": "code",
   "execution_count": 2,
   "metadata": {},
   "outputs": [],
   "source": [
    "import tiktoken\n",
    "\n",
    "def encoding_getter(encoding_type: str):\n",
    "    \"\"\"\n",
    "    Returns the appropriate encoding based on the given encoding type (either an encoding string or a model name).\n",
    "    \"\"\"\n",
    "    if \"k_base\" in encoding_type:\n",
    "        return tiktoken.get_encoding(encoding_type)\n",
    "    else:\n",
    "        return tiktoken.encoding_for_model(encoding_type)\n",
    "\n",
    "def tokenizer(string: str, encoding_type: str) -> list:\n",
    "    \"\"\"\n",
    "    Returns the tokens in a text string using the specified encoding.\n",
    "    \"\"\"\n",
    "    encoding = encoding_getter(encoding_type)\n",
    "    tokens = encoding.encode(string)\n",
    "    return tokens\n",
    "\n",
    "def token_counter(string: str, encoding_type: str) -> int:\n",
    "    \"\"\"\n",
    "    Returns the number of tokens in a text string using the specified encoding.\n",
    "    \"\"\"\n",
    "    num_tokens = len(tokenizer(string, encoding_type))\n",
    "    return num_tokens"
   ]
  },
  {
   "cell_type": "code",
   "execution_count": 3,
   "metadata": {},
   "outputs": [
    {
     "data": {
      "text/plain": [
       "7"
      ]
     },
     "execution_count": 3,
     "metadata": {},
     "output_type": "execute_result"
    }
   ],
   "source": [
    "token_counter(\"This string will be counted as tokens\", \"gpt-3.5-turbo\")"
   ]
  },
  {
   "cell_type": "code",
   "execution_count": null,
   "metadata": {},
   "outputs": [],
   "source": []
  }
 ],
 "metadata": {
  "kernelspec": {
   "display_name": "Python 3",
   "language": "python",
   "name": "python3"
  },
  "language_info": {
   "codemirror_mode": {
    "name": "ipython",
    "version": 3
   },
   "file_extension": ".py",
   "mimetype": "text/x-python",
   "name": "python",
   "nbconvert_exporter": "python",
   "pygments_lexer": "ipython3",
   "version": "3.11.8"
  }
 },
 "nbformat": 4,
 "nbformat_minor": 2
}
