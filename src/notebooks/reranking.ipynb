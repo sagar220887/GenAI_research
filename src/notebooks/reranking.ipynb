{
 "cells": [
  {
   "cell_type": "code",
   "execution_count": 1,
   "metadata": {},
   "outputs": [
    {
     "name": "stdout",
     "output_type": "stream",
     "text": [
      "Requirement already satisfied: sentence_transformers in c:\\users\\lenovo\\sagar\\work\\ai_ml\\gitrepo\\genai\\youtubes\\genai_research\\venv\\lib\\site-packages (2.7.0)\n",
      "Requirement already satisfied: transformers<5.0.0,>=4.34.0 in c:\\users\\lenovo\\sagar\\work\\ai_ml\\gitrepo\\genai\\youtubes\\genai_research\\venv\\lib\\site-packages (from sentence_transformers) (4.41.1)\n",
      "Requirement already satisfied: tqdm in c:\\users\\lenovo\\sagar\\work\\ai_ml\\gitrepo\\genai\\youtubes\\genai_research\\venv\\lib\\site-packages (from sentence_transformers) (4.66.2)\n",
      "Requirement already satisfied: torch>=1.11.0 in c:\\users\\lenovo\\sagar\\work\\ai_ml\\gitrepo\\genai\\youtubes\\genai_research\\venv\\lib\\site-packages (from sentence_transformers) (2.2.2)\n",
      "Requirement already satisfied: numpy in c:\\users\\lenovo\\sagar\\work\\ai_ml\\gitrepo\\genai\\youtubes\\genai_research\\venv\\lib\\site-packages (from sentence_transformers) (1.26.4)\n",
      "Requirement already satisfied: scikit-learn in c:\\users\\lenovo\\sagar\\work\\ai_ml\\gitrepo\\genai\\youtubes\\genai_research\\venv\\lib\\site-packages (from sentence_transformers) (1.4.2)\n",
      "Requirement already satisfied: scipy in c:\\users\\lenovo\\sagar\\work\\ai_ml\\gitrepo\\genai\\youtubes\\genai_research\\venv\\lib\\site-packages (from sentence_transformers) (1.13.0)\n",
      "Requirement already satisfied: huggingface-hub>=0.15.1 in c:\\users\\lenovo\\sagar\\work\\ai_ml\\gitrepo\\genai\\youtubes\\genai_research\\venv\\lib\\site-packages (from sentence_transformers) (0.23.2)\n",
      "Requirement already satisfied: Pillow in c:\\users\\lenovo\\sagar\\work\\ai_ml\\gitrepo\\genai\\youtubes\\genai_research\\venv\\lib\\site-packages (from sentence_transformers) (10.3.0)\n",
      "Requirement already satisfied: filelock in c:\\users\\lenovo\\sagar\\work\\ai_ml\\gitrepo\\genai\\youtubes\\genai_research\\venv\\lib\\site-packages (from huggingface-hub>=0.15.1->sentence_transformers) (3.13.4)\n",
      "Requirement already satisfied: fsspec>=2023.5.0 in c:\\users\\lenovo\\sagar\\work\\ai_ml\\gitrepo\\genai\\youtubes\\genai_research\\venv\\lib\\site-packages (from huggingface-hub>=0.15.1->sentence_transformers) (2024.3.1)\n",
      "Requirement already satisfied: packaging>=20.9 in c:\\users\\lenovo\\sagar\\work\\ai_ml\\gitrepo\\genai\\youtubes\\genai_research\\venv\\lib\\site-packages (from huggingface-hub>=0.15.1->sentence_transformers) (23.2)\n",
      "Requirement already satisfied: pyyaml>=5.1 in c:\\users\\lenovo\\sagar\\work\\ai_ml\\gitrepo\\genai\\youtubes\\genai_research\\venv\\lib\\site-packages (from huggingface-hub>=0.15.1->sentence_transformers) (6.0.1)\n",
      "Requirement already satisfied: requests in c:\\users\\lenovo\\sagar\\work\\ai_ml\\gitrepo\\genai\\youtubes\\genai_research\\venv\\lib\\site-packages (from huggingface-hub>=0.15.1->sentence_transformers) (2.31.0)\n",
      "Requirement already satisfied: typing-extensions>=3.7.4.3 in c:\\users\\lenovo\\sagar\\work\\ai_ml\\gitrepo\\genai\\youtubes\\genai_research\\venv\\lib\\site-packages (from huggingface-hub>=0.15.1->sentence_transformers) (4.11.0)\n",
      "Requirement already satisfied: sympy in c:\\users\\lenovo\\sagar\\work\\ai_ml\\gitrepo\\genai\\youtubes\\genai_research\\venv\\lib\\site-packages (from torch>=1.11.0->sentence_transformers) (1.12)\n",
      "Requirement already satisfied: networkx in c:\\users\\lenovo\\sagar\\work\\ai_ml\\gitrepo\\genai\\youtubes\\genai_research\\venv\\lib\\site-packages (from torch>=1.11.0->sentence_transformers) (3.3)\n",
      "Requirement already satisfied: jinja2 in c:\\users\\lenovo\\sagar\\work\\ai_ml\\gitrepo\\genai\\youtubes\\genai_research\\venv\\lib\\site-packages (from torch>=1.11.0->sentence_transformers) (3.1.3)\n",
      "Requirement already satisfied: colorama in c:\\users\\lenovo\\sagar\\work\\ai_ml\\gitrepo\\genai\\youtubes\\genai_research\\venv\\lib\\site-packages (from tqdm->sentence_transformers) (0.4.6)\n",
      "Requirement already satisfied: regex!=2019.12.17 in c:\\users\\lenovo\\sagar\\work\\ai_ml\\gitrepo\\genai\\youtubes\\genai_research\\venv\\lib\\site-packages (from transformers<5.0.0,>=4.34.0->sentence_transformers) (2024.4.16)\n",
      "Requirement already satisfied: tokenizers<0.20,>=0.19 in c:\\users\\lenovo\\sagar\\work\\ai_ml\\gitrepo\\genai\\youtubes\\genai_research\\venv\\lib\\site-packages (from transformers<5.0.0,>=4.34.0->sentence_transformers) (0.19.1)\n",
      "Requirement already satisfied: safetensors>=0.4.1 in c:\\users\\lenovo\\sagar\\work\\ai_ml\\gitrepo\\genai\\youtubes\\genai_research\\venv\\lib\\site-packages (from transformers<5.0.0,>=4.34.0->sentence_transformers) (0.4.3)\n",
      "Requirement already satisfied: joblib>=1.2.0 in c:\\users\\lenovo\\sagar\\work\\ai_ml\\gitrepo\\genai\\youtubes\\genai_research\\venv\\lib\\site-packages (from scikit-learn->sentence_transformers) (1.4.0)\n",
      "Requirement already satisfied: threadpoolctl>=2.0.0 in c:\\users\\lenovo\\sagar\\work\\ai_ml\\gitrepo\\genai\\youtubes\\genai_research\\venv\\lib\\site-packages (from scikit-learn->sentence_transformers) (3.5.0)\n",
      "Requirement already satisfied: MarkupSafe>=2.0 in c:\\users\\lenovo\\sagar\\work\\ai_ml\\gitrepo\\genai\\youtubes\\genai_research\\venv\\lib\\site-packages (from jinja2->torch>=1.11.0->sentence_transformers) (2.1.5)\n",
      "Requirement already satisfied: charset-normalizer<4,>=2 in c:\\users\\lenovo\\sagar\\work\\ai_ml\\gitrepo\\genai\\youtubes\\genai_research\\venv\\lib\\site-packages (from requests->huggingface-hub>=0.15.1->sentence_transformers) (3.3.2)\n",
      "Requirement already satisfied: idna<4,>=2.5 in c:\\users\\lenovo\\sagar\\work\\ai_ml\\gitrepo\\genai\\youtubes\\genai_research\\venv\\lib\\site-packages (from requests->huggingface-hub>=0.15.1->sentence_transformers) (3.7)\n",
      "Requirement already satisfied: urllib3<3,>=1.21.1 in c:\\users\\lenovo\\sagar\\work\\ai_ml\\gitrepo\\genai\\youtubes\\genai_research\\venv\\lib\\site-packages (from requests->huggingface-hub>=0.15.1->sentence_transformers) (2.2.1)\n",
      "Requirement already satisfied: certifi>=2017.4.17 in c:\\users\\lenovo\\sagar\\work\\ai_ml\\gitrepo\\genai\\youtubes\\genai_research\\venv\\lib\\site-packages (from requests->huggingface-hub>=0.15.1->sentence_transformers) (2024.2.2)\n",
      "Requirement already satisfied: mpmath>=0.19 in c:\\users\\lenovo\\sagar\\work\\ai_ml\\gitrepo\\genai\\youtubes\\genai_research\\venv\\lib\\site-packages (from sympy->torch>=1.11.0->sentence_transformers) (1.3.0)\n"
     ]
    }
   ],
   "source": [
    "! pip install sentence_transformers"
   ]
  },
  {
   "cell_type": "code",
   "execution_count": 2,
   "metadata": {},
   "outputs": [],
   "source": [
    "\n",
    "documents = [\n",
    "    \"This is a list which containing sample documents.\",\n",
    "    \"Keywords are important for keyword-based search.\",\n",
    "    \"Document analysis involves extracting keywords.\",\n",
    "    \"Keyword-based search relies on sparse embeddings.\",\n",
    "    \"Understanding document structure aids in keyword extraction.\",\n",
    "    \"Efficient keyword extraction enhances search accuracy.\",\n",
    "    \"Semantic similarity improves document retrieval performance.\",\n",
    "    \"Machine learning algorithms can optimize keyword extraction methods.\"\n",
    "]"
   ]
  },
  {
   "cell_type": "code",
   "execution_count": 3,
   "metadata": {},
   "outputs": [
    {
     "name": "stderr",
     "output_type": "stream",
     "text": [
      "c:\\Users\\LENOVO\\sagar\\work\\AI_ML\\gitrepo\\GENAI\\YOUTUBES\\GenAI_research\\venv\\Lib\\site-packages\\tqdm\\auto.py:21: TqdmWarning: IProgress not found. Please update jupyter and ipywidgets. See https://ipywidgets.readthedocs.io/en/stable/user_install.html\n",
      "  from .autonotebook import tqdm as notebook_tqdm\n"
     ]
    }
   ],
   "source": [
    "\n",
    "from sentence_transformers import SentenceTransformer"
   ]
  },
  {
   "cell_type": "code",
   "execution_count": 4,
   "metadata": {},
   "outputs": [],
   "source": [
    "\n",
    "\n",
    "# Load pre-trained Sentence Transformer model\n",
    "model_name = 'sentence-transformers/paraphrase-xlm-r-multilingual-v1'"
   ]
  },
  {
   "cell_type": "code",
   "execution_count": 5,
   "metadata": {},
   "outputs": [
    {
     "name": "stderr",
     "output_type": "stream",
     "text": [
      "c:\\Users\\LENOVO\\sagar\\work\\AI_ML\\gitrepo\\GENAI\\YOUTUBES\\GenAI_research\\venv\\Lib\\site-packages\\huggingface_hub\\file_download.py:157: UserWarning: `huggingface_hub` cache-system uses symlinks by default to efficiently store duplicated files but your machine does not support them in C:\\Users\\LENOVO\\.cache\\huggingface\\hub\\models--sentence-transformers--paraphrase-xlm-r-multilingual-v1. Caching files will still work but in a degraded version that might require more space on your disk. This warning can be disabled by setting the `HF_HUB_DISABLE_SYMLINKS_WARNING` environment variable. For more details, see https://huggingface.co/docs/huggingface_hub/how-to-cache#limitations.\n",
      "To support symlinks on Windows, you either need to activate Developer Mode or to run Python as an administrator. In order to see activate developer mode, see this article: https://docs.microsoft.com/en-us/windows/apps/get-started/enable-your-device-for-development\n",
      "  warnings.warn(message)\n",
      "c:\\Users\\LENOVO\\sagar\\work\\AI_ML\\gitrepo\\GENAI\\YOUTUBES\\GenAI_research\\venv\\Lib\\site-packages\\huggingface_hub\\file_download.py:1132: FutureWarning: `resume_download` is deprecated and will be removed in version 1.0.0. Downloads always resume when possible. If you want to force a new download, use `force_download=True`.\n",
      "  warnings.warn(\n"
     ]
    }
   ],
   "source": [
    "\n",
    "\n",
    "model = SentenceTransformer(model_name)"
   ]
  },
  {
   "cell_type": "code",
   "execution_count": 6,
   "metadata": {},
   "outputs": [
    {
     "data": {
      "text/plain": [
       "SentenceTransformer(\n",
       "  (0): Transformer({'max_seq_length': 128, 'do_lower_case': False}) with Transformer model: XLMRobertaModel \n",
       "  (1): Pooling({'word_embedding_dimension': 768, 'pooling_mode_cls_token': False, 'pooling_mode_mean_tokens': True, 'pooling_mode_max_tokens': False, 'pooling_mode_mean_sqrt_len_tokens': False, 'pooling_mode_weightedmean_tokens': False, 'pooling_mode_lasttoken': False, 'include_prompt': True})\n",
       ")"
      ]
     },
     "execution_count": 6,
     "metadata": {},
     "output_type": "execute_result"
    }
   ],
   "source": [
    "model"
   ]
  },
  {
   "cell_type": "code",
   "execution_count": 7,
   "metadata": {},
   "outputs": [
    {
     "data": {
      "text/plain": [
       "['This is a list which containing sample documents.',\n",
       " 'Keywords are important for keyword-based search.',\n",
       " 'Document analysis involves extracting keywords.',\n",
       " 'Keyword-based search relies on sparse embeddings.',\n",
       " 'Understanding document structure aids in keyword extraction.',\n",
       " 'Efficient keyword extraction enhances search accuracy.',\n",
       " 'Semantic similarity improves document retrieval performance.',\n",
       " 'Machine learning algorithms can optimize keyword extraction methods.']"
      ]
     },
     "execution_count": 7,
     "metadata": {},
     "output_type": "execute_result"
    }
   ],
   "source": [
    "documents"
   ]
  },
  {
   "cell_type": "code",
   "execution_count": 8,
   "metadata": {},
   "outputs": [
    {
     "data": {
      "text/plain": [
       "8"
      ]
     },
     "execution_count": 8,
     "metadata": {},
     "output_type": "execute_result"
    }
   ],
   "source": [
    "len(documents)"
   ]
  },
  {
   "cell_type": "code",
   "execution_count": 9,
   "metadata": {},
   "outputs": [
    {
     "data": {
      "text/plain": [
       "array([[ 0.10894684,  0.07812065,  0.11626569, ..., -0.09545085,\n",
       "         0.04451444,  0.37490645],\n",
       "       [ 0.36544177,  0.41045642,  0.02045545, ...,  0.19753921,\n",
       "         0.22888167,  0.1115875 ],\n",
       "       [ 0.28732774,  0.15202942,  0.24311854, ...,  0.16569284,\n",
       "         0.3132983 ,  0.10595309],\n",
       "       ...,\n",
       "       [ 0.34392148,  0.23954616,  0.16326736, ...,  0.10939949,\n",
       "         0.22899213,  0.2131516 ],\n",
       "       [ 0.16869688,  0.37198666,  0.25552407, ..., -0.06428422,\n",
       "         0.20327894,  0.15427306],\n",
       "       [ 0.3371375 ,  0.12179313, -0.12275392, ...,  0.17741631,\n",
       "        -0.00627342,  0.2018703 ]], dtype=float32)"
      ]
     },
     "execution_count": 9,
     "metadata": {},
     "output_type": "execute_result"
    }
   ],
   "source": [
    "document_embeddings =model.encode(documents)\n",
    "document_embeddings"
   ]
  },
  {
   "cell_type": "code",
   "execution_count": 10,
   "metadata": {},
   "outputs": [
    {
     "data": {
      "text/plain": [
       "768"
      ]
     },
     "execution_count": 10,
     "metadata": {},
     "output_type": "execute_result"
    }
   ],
   "source": [
    "\n",
    "\n",
    "len(document_embeddings[0])"
   ]
  },
  {
   "cell_type": "code",
   "execution_count": 11,
   "metadata": {},
   "outputs": [],
   "source": [
    "\n",
    "query = \"Natural language processing techniques enhance keyword extraction efficiency.\""
   ]
  },
  {
   "cell_type": "code",
   "execution_count": 14,
   "metadata": {},
   "outputs": [
    {
     "data": {
      "text/plain": [
       "768"
      ]
     },
     "execution_count": 14,
     "metadata": {},
     "output_type": "execute_result"
    }
   ],
   "source": [
    "\n",
    "query_embedding = model.encode(query)\n",
    "len(query_embedding)"
   ]
  },
  {
   "cell_type": "code",
   "execution_count": 15,
   "metadata": {},
   "outputs": [],
   "source": [
    "import numpy as np\n",
    "from sklearn.metrics.pairwise import cosine_similarity"
   ]
  },
  {
   "cell_type": "code",
   "execution_count": 16,
   "metadata": {},
   "outputs": [],
   "source": [
    "\n",
    "similarities = cosine_similarity(np.array([query_embedding]), document_embeddings)"
   ]
  },
  {
   "cell_type": "code",
   "execution_count": 17,
   "metadata": {},
   "outputs": [
    {
     "data": {
      "text/plain": [
       "array([[0.16948152, 0.45802277, 0.5675694 , 0.44123298, 0.6316117 ,\n",
       "        0.7521413 , 0.550352  , 0.74481654]], dtype=float32)"
      ]
     },
     "execution_count": 17,
     "metadata": {},
     "output_type": "execute_result"
    }
   ],
   "source": [
    "similarities"
   ]
  },
  {
   "cell_type": "code",
   "execution_count": 19,
   "metadata": {},
   "outputs": [
    {
     "data": {
      "text/plain": [
       "5"
      ]
     },
     "execution_count": 19,
     "metadata": {},
     "output_type": "execute_result"
    }
   ],
   "source": [
    "most_similar_index = np.argmax(similarities)\n",
    "most_similar_index"
   ]
  },
  {
   "cell_type": "code",
   "execution_count": 20,
   "metadata": {},
   "outputs": [
    {
     "data": {
      "text/plain": [
       "'Efficient keyword extraction enhances search accuracy.'"
      ]
     },
     "execution_count": 20,
     "metadata": {},
     "output_type": "execute_result"
    }
   ],
   "source": [
    "most_similar_document = documents[most_similar_index]\n",
    "most_similar_document"
   ]
  },
  {
   "cell_type": "code",
   "execution_count": 22,
   "metadata": {},
   "outputs": [
    {
     "data": {
      "text/plain": [
       "0.7521413"
      ]
     },
     "execution_count": 22,
     "metadata": {},
     "output_type": "execute_result"
    }
   ],
   "source": [
    "similarity_score = similarities[0][most_similar_index]\n",
    "similarity_score"
   ]
  },
  {
   "cell_type": "code",
   "execution_count": 23,
   "metadata": {},
   "outputs": [
    {
     "data": {
      "text/plain": [
       "array([5, 7, 4, 2, 6, 1, 3, 0], dtype=int64)"
      ]
     },
     "execution_count": 23,
     "metadata": {},
     "output_type": "execute_result"
    }
   ],
   "source": [
    "\n",
    "sorted_indices = np.argsort(similarities[0])[::-1]\n",
    "sorted_indices"
   ]
  },
  {
   "cell_type": "code",
   "execution_count": 24,
   "metadata": {},
   "outputs": [
    {
     "data": {
      "text/plain": [
       "[('Efficient keyword extraction enhances search accuracy.', 0.7521413),\n",
       " ('Machine learning algorithms can optimize keyword extraction methods.',\n",
       "  0.74481654),\n",
       " ('Understanding document structure aids in keyword extraction.', 0.6316117),\n",
       " ('Document analysis involves extracting keywords.', 0.5675694),\n",
       " ('Semantic similarity improves document retrieval performance.', 0.550352),\n",
       " ('Keywords are important for keyword-based search.', 0.45802277),\n",
       " ('Keyword-based search relies on sparse embeddings.', 0.44123298),\n",
       " ('This is a list which containing sample documents.', 0.16948152)]"
      ]
     },
     "execution_count": 24,
     "metadata": {},
     "output_type": "execute_result"
    }
   ],
   "source": [
    "\n",
    "\n",
    "ranked_documents = [(documents[i], similarities[0][i]) for i in sorted_indices]\n",
    "ranked_documents"
   ]
  },
  {
   "cell_type": "code",
   "execution_count": 26,
   "metadata": {},
   "outputs": [
    {
     "data": {
      "text/plain": [
       "'Natural language processing techniques enhance keyword extraction efficiency.'"
      ]
     },
     "execution_count": 26,
     "metadata": {},
     "output_type": "execute_result"
    }
   ],
   "source": [
    "query"
   ]
  },
  {
   "cell_type": "code",
   "execution_count": 25,
   "metadata": {},
   "outputs": [
    {
     "name": "stdout",
     "output_type": "stream",
     "text": [
      "Ranked Documents:\n",
      "Rank 1: Document - 'Efficient keyword extraction enhances search accuracy.', Similarity Score - 0.7521412968635559\n",
      "Rank 2: Document - 'Machine learning algorithms can optimize keyword extraction methods.', Similarity Score - 0.7448165416717529\n",
      "Rank 3: Document - 'Understanding document structure aids in keyword extraction.', Similarity Score - 0.631611704826355\n",
      "Rank 4: Document - 'Document analysis involves extracting keywords.', Similarity Score - 0.567569375038147\n",
      "Rank 5: Document - 'Semantic similarity improves document retrieval performance.', Similarity Score - 0.5503519773483276\n",
      "Rank 6: Document - 'Keywords are important for keyword-based search.', Similarity Score - 0.4580227732658386\n",
      "Rank 7: Document - 'Keyword-based search relies on sparse embeddings.', Similarity Score - 0.44123297929763794\n",
      "Rank 8: Document - 'This is a list which containing sample documents.', Similarity Score - 0.16948151588439941\n"
     ]
    }
   ],
   "source": [
    "\n",
    "print(\"Ranked Documents:\")\n",
    "for rank, (document, similarity) in enumerate(ranked_documents, start=1):\n",
    "    print(f\"Rank {rank}: Document - '{document}', Similarity Score - {similarity}\")"
   ]
  },
  {
   "cell_type": "code",
   "execution_count": 30,
   "metadata": {},
   "outputs": [
    {
     "name": "stdout",
     "output_type": "stream",
     "text": [
      "Top 4 Documents:\n",
      "Rank 1: Document - 'Efficient keyword extraction enhances search accuracy.', Similarity Score - 0.7521412968635559\n",
      "Rank 2: Document - 'Machine learning algorithms can optimize keyword extraction methods.', Similarity Score - 0.7448165416717529\n",
      "Rank 3: Document - 'Understanding document structure aids in keyword extraction.', Similarity Score - 0.631611704826355\n",
      "Rank 4: Document - 'Document analysis involves extracting keywords.', Similarity Score - 0.567569375038147\n"
     ]
    }
   ],
   "source": [
    "\n",
    "print(\"Top 4 Documents:\")\n",
    "for rank, (document, similarity) in enumerate(ranked_documents[:4], start=1):\n",
    "    print(f\"Rank {rank}: Document - '{document}', Similarity Score - {similarity}\")"
   ]
  },
  {
   "cell_type": "code",
   "execution_count": 28,
   "metadata": {},
   "outputs": [
    {
     "name": "stdout",
     "output_type": "stream",
     "text": [
      "Collecting rank_bm25\n",
      "  Downloading rank_bm25-0.2.2-py3-none-any.whl.metadata (3.2 kB)\n",
      "Requirement already satisfied: numpy in c:\\users\\lenovo\\sagar\\work\\ai_ml\\gitrepo\\genai\\youtubes\\genai_research\\venv\\lib\\site-packages (from rank_bm25) (1.26.4)\n",
      "Downloading rank_bm25-0.2.2-py3-none-any.whl (8.6 kB)\n",
      "Installing collected packages: rank_bm25\n",
      "Successfully installed rank_bm25-0.2.2\n"
     ]
    }
   ],
   "source": [
    "\n",
    "! pip install rank_bm25"
   ]
  },
  {
   "cell_type": "code",
   "execution_count": 29,
   "metadata": {},
   "outputs": [],
   "source": [
    "from rank_bm25 import BM25Okapi"
   ]
  },
  {
   "cell_type": "code",
   "execution_count": 32,
   "metadata": {},
   "outputs": [
    {
     "data": {
      "text/plain": [
       "['Efficient keyword extraction enhances search accuracy.',\n",
       " 'Machine learning algorithms can optimize keyword extraction methods.',\n",
       " 'Understanding document structure aids in keyword extraction.',\n",
       " 'Document analysis involves extracting keywords.']"
      ]
     },
     "execution_count": 32,
     "metadata": {},
     "output_type": "execute_result"
    }
   ],
   "source": [
    "top_4_documents = [doc[0] for doc in ranked_documents[:4]]\n",
    "top_4_documents"
   ]
  },
  {
   "cell_type": "code",
   "execution_count": 34,
   "metadata": {},
   "outputs": [
    {
     "data": {
      "text/plain": [
       "[['Efficient', 'keyword', 'extraction', 'enhances', 'search', 'accuracy.'],\n",
       " ['Machine',\n",
       "  'learning',\n",
       "  'algorithms',\n",
       "  'can',\n",
       "  'optimize',\n",
       "  'keyword',\n",
       "  'extraction',\n",
       "  'methods.'],\n",
       " ['Understanding',\n",
       "  'document',\n",
       "  'structure',\n",
       "  'aids',\n",
       "  'in',\n",
       "  'keyword',\n",
       "  'extraction.'],\n",
       " ['Document', 'analysis', 'involves', 'extracting', 'keywords.']]"
      ]
     },
     "execution_count": 34,
     "metadata": {},
     "output_type": "execute_result"
    }
   ],
   "source": [
    "tokenized_top_4_documents = [doc.split() for doc in top_4_documents]\n",
    "tokenized_top_4_documents"
   ]
  },
  {
   "cell_type": "code",
   "execution_count": 35,
   "metadata": {},
   "outputs": [
    {
     "data": {
      "text/plain": [
       "['Natural',\n",
       " 'language',\n",
       " 'processing',\n",
       " 'techniques',\n",
       " 'enhance',\n",
       " 'keyword',\n",
       " 'extraction',\n",
       " 'efficiency.']"
      ]
     },
     "execution_count": 35,
     "metadata": {},
     "output_type": "execute_result"
    }
   ],
   "source": [
    "tokenized_query = query.split()\n",
    "tokenized_query"
   ]
  },
  {
   "cell_type": "code",
   "execution_count": 37,
   "metadata": {},
   "outputs": [
    {
     "data": {
      "text/plain": [
       "<rank_bm25.BM25Okapi at 0x2d9bf837890>"
      ]
     },
     "execution_count": 37,
     "metadata": {},
     "output_type": "execute_result"
    }
   ],
   "source": [
    "\n",
    "bm25=BM25Okapi(tokenized_top_4_documents)\n",
    "bm25"
   ]
  },
  {
   "cell_type": "code",
   "execution_count": 38,
   "metadata": {},
   "outputs": [
    {
     "data": {
      "text/plain": [
       "array([0.1907998 , 0.16686672, 0.17803252, 0.        ])"
      ]
     },
     "execution_count": 38,
     "metadata": {},
     "output_type": "execute_result"
    }
   ],
   "source": [
    "\n",
    "\n",
    "bm25_scores = bm25.get_scores(tokenized_query)\n",
    "bm25_scores"
   ]
  },
  {
   "cell_type": "code",
   "execution_count": 44,
   "metadata": {},
   "outputs": [
    {
     "data": {
      "text/plain": [
       "array([0, 2, 1, 3], dtype=int64)"
      ]
     },
     "execution_count": 44,
     "metadata": {},
     "output_type": "execute_result"
    }
   ],
   "source": [
    "\n",
    "sorted_indices2 = np.argsort(bm25_scores)[::-1]\n",
    "sorted_indices2"
   ]
  },
  {
   "cell_type": "code",
   "execution_count": 45,
   "metadata": {},
   "outputs": [
    {
     "data": {
      "text/plain": [
       "[('Efficient keyword extraction enhances search accuracy.',\n",
       "  0.19079979534096053),\n",
       " ('Understanding document structure aids in keyword extraction.',\n",
       "  0.1780325227902643),\n",
       " ('Machine learning algorithms can optimize keyword extraction methods.',\n",
       "  0.1668667199671815),\n",
       " ('Document analysis involves extracting keywords.', 0.0)]"
      ]
     },
     "execution_count": 45,
     "metadata": {},
     "output_type": "execute_result"
    }
   ],
   "source": [
    "\n",
    "reranked_documents = [(top_4_documents[i], bm25_scores[i]) for i in sorted_indices2]\n",
    "reranked_documents"
   ]
  },
  {
   "cell_type": "code",
   "execution_count": 42,
   "metadata": {},
   "outputs": [
    {
     "name": "stdout",
     "output_type": "stream",
     "text": [
      "Rerank of top 4 Documents:\n",
      "Rank 1: Document - 'Efficient keyword extraction enhances search accuracy.', Similarity Score - 0.19079979534096053\n",
      "Rank 2: Document - 'Understanding document structure aids in keyword extraction.', Similarity Score - 0.1780325227902643\n",
      "Rank 3: Document - 'Machine learning algorithms can optimize keyword extraction methods.', Similarity Score - 0.1668667199671815\n",
      "Rank 4: Document - 'Document analysis involves extracting keywords.', Similarity Score - 0.0\n"
     ]
    }
   ],
   "source": [
    "\n",
    "\n",
    "print(\"Rerank of top 4 Documents:\")\n",
    "for rank, (document, similarity) in enumerate(reranked_documents, start=1):\n",
    "    print(f\"Rank {rank}: Document - '{document}', Similarity Score - {similarity}\")"
   ]
  },
  {
   "cell_type": "code",
   "execution_count": 46,
   "metadata": {},
   "outputs": [
    {
     "data": {
      "text/plain": [
       "[('Efficient keyword extraction enhances search accuracy.', 0.7521413),\n",
       " ('Machine learning algorithms can optimize keyword extraction methods.',\n",
       "  0.74481654),\n",
       " ('Understanding document structure aids in keyword extraction.', 0.6316117),\n",
       " ('Document analysis involves extracting keywords.', 0.5675694)]"
      ]
     },
     "execution_count": 46,
     "metadata": {},
     "output_type": "execute_result"
    }
   ],
   "source": [
    "\n",
    "ranked_documents[:4]"
   ]
  },
  {
   "cell_type": "markdown",
   "metadata": {},
   "source": [
    "## Cross Encoder"
   ]
  },
  {
   "cell_type": "code",
   "execution_count": 47,
   "metadata": {},
   "outputs": [],
   "source": [
    "\n",
    "\n",
    "from sentence_transformers import CrossEncoder"
   ]
  },
  {
   "cell_type": "code",
   "execution_count": 48,
   "metadata": {},
   "outputs": [
    {
     "name": "stderr",
     "output_type": "stream",
     "text": [
      "c:\\Users\\LENOVO\\sagar\\work\\AI_ML\\gitrepo\\GENAI\\YOUTUBES\\GenAI_research\\venv\\Lib\\site-packages\\huggingface_hub\\file_download.py:1132: FutureWarning: `resume_download` is deprecated and will be removed in version 1.0.0. Downloads always resume when possible. If you want to force a new download, use `force_download=True`.\n",
      "  warnings.warn(\n",
      "c:\\Users\\LENOVO\\sagar\\work\\AI_ML\\gitrepo\\GENAI\\YOUTUBES\\GenAI_research\\venv\\Lib\\site-packages\\huggingface_hub\\file_download.py:157: UserWarning: `huggingface_hub` cache-system uses symlinks by default to efficiently store duplicated files but your machine does not support them in C:\\Users\\LENOVO\\.cache\\huggingface\\hub\\models--cross-encoder--ms-marco-MiniLM-L-6-v2. Caching files will still work but in a degraded version that might require more space on your disk. This warning can be disabled by setting the `HF_HUB_DISABLE_SYMLINKS_WARNING` environment variable. For more details, see https://huggingface.co/docs/huggingface_hub/how-to-cache#limitations.\n",
      "To support symlinks on Windows, you either need to activate Developer Mode or to run Python as an administrator. In order to see activate developer mode, see this article: https://docs.microsoft.com/en-us/windows/apps/get-started/enable-your-device-for-development\n",
      "  warnings.warn(message)\n"
     ]
    }
   ],
   "source": [
    "cross_encoder = CrossEncoder('cross-encoder/ms-marco-MiniLM-L-6-v2')"
   ]
  },
  {
   "cell_type": "code",
   "execution_count": 49,
   "metadata": {},
   "outputs": [
    {
     "data": {
      "text/plain": [
       "['Efficient keyword extraction enhances search accuracy.',\n",
       " 'Machine learning algorithms can optimize keyword extraction methods.',\n",
       " 'Understanding document structure aids in keyword extraction.',\n",
       " 'Document analysis involves extracting keywords.']"
      ]
     },
     "execution_count": 49,
     "metadata": {},
     "output_type": "execute_result"
    }
   ],
   "source": [
    "\n",
    "top_4_documents"
   ]
  },
  {
   "cell_type": "code",
   "execution_count": 50,
   "metadata": {},
   "outputs": [
    {
     "data": {
      "text/plain": [
       "'Natural language processing techniques enhance keyword extraction efficiency.'"
      ]
     },
     "execution_count": 50,
     "metadata": {},
     "output_type": "execute_result"
    }
   ],
   "source": [
    "query"
   ]
  },
  {
   "cell_type": "code",
   "execution_count": 51,
   "metadata": {},
   "outputs": [
    {
     "data": {
      "text/plain": [
       "[['Natural language processing techniques enhance keyword extraction efficiency.',\n",
       "  'Efficient keyword extraction enhances search accuracy.'],\n",
       " ['Natural language processing techniques enhance keyword extraction efficiency.',\n",
       "  'Machine learning algorithms can optimize keyword extraction methods.'],\n",
       " ['Natural language processing techniques enhance keyword extraction efficiency.',\n",
       "  'Understanding document structure aids in keyword extraction.'],\n",
       " ['Natural language processing techniques enhance keyword extraction efficiency.',\n",
       "  'Document analysis involves extracting keywords.']]"
      ]
     },
     "execution_count": 51,
     "metadata": {},
     "output_type": "execute_result"
    }
   ],
   "source": [
    "\n",
    "pairs = []\n",
    "for doc in top_4_documents:\n",
    "    pairs.append([query, doc])\n",
    "\n",
    "pairs"
   ]
  },
  {
   "cell_type": "code",
   "execution_count": 52,
   "metadata": {},
   "outputs": [
    {
     "data": {
      "text/plain": [
       "array([ 3.137872 ,  0.8421651, -2.919301 , -2.8781886], dtype=float32)"
      ]
     },
     "execution_count": 52,
     "metadata": {},
     "output_type": "execute_result"
    }
   ],
   "source": [
    "\n",
    "scores = cross_encoder.predict(pairs)\n",
    "scores"
   ]
  },
  {
   "cell_type": "code",
   "execution_count": 53,
   "metadata": {},
   "outputs": [
    {
     "data": {
      "text/plain": [
       "<zip at 0x2d9bf924400>"
      ]
     },
     "execution_count": 53,
     "metadata": {},
     "output_type": "execute_result"
    }
   ],
   "source": [
    "\n",
    "scored_docs = zip(scores, top_4_documents)\n",
    "scored_docs"
   ]
  },
  {
   "cell_type": "code",
   "execution_count": 55,
   "metadata": {},
   "outputs": [
    {
     "data": {
      "text/plain": [
       "[(3.137872, 'Efficient keyword extraction enhances search accuracy.'),\n",
       " (0.8421651,\n",
       "  'Machine learning algorithms can optimize keyword extraction methods.'),\n",
       " (-2.8781886, 'Document analysis involves extracting keywords.'),\n",
       " (-2.919301, 'Understanding document structure aids in keyword extraction.')]"
      ]
     },
     "execution_count": 55,
     "metadata": {},
     "output_type": "execute_result"
    }
   ],
   "source": [
    "reranked_document_cross_encoder = sorted(scored_docs, reverse=True)\n",
    "reranked_document_cross_encoder"
   ]
  },
  {
   "cell_type": "markdown",
   "metadata": {},
   "source": [
    "## BM_25"
   ]
  },
  {
   "cell_type": "code",
   "execution_count": 56,
   "metadata": {},
   "outputs": [],
   "source": []
  },
  {
   "cell_type": "code",
   "execution_count": null,
   "metadata": {},
   "outputs": [],
   "source": []
  },
  {
   "cell_type": "code",
   "execution_count": null,
   "metadata": {},
   "outputs": [],
   "source": []
  },
  {
   "cell_type": "code",
   "execution_count": null,
   "metadata": {},
   "outputs": [],
   "source": []
  }
 ],
 "metadata": {
  "kernelspec": {
   "display_name": "Python 3",
   "language": "python",
   "name": "python3"
  },
  "language_info": {
   "codemirror_mode": {
    "name": "ipython",
    "version": 3
   },
   "file_extension": ".py",
   "mimetype": "text/x-python",
   "name": "python",
   "nbconvert_exporter": "python",
   "pygments_lexer": "ipython3",
   "version": "3.11.8"
  }
 },
 "nbformat": 4,
 "nbformat_minor": 2
}
