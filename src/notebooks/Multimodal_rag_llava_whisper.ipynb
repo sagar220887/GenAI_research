{
 "cells": [
  {
   "cell_type": "markdown",
   "metadata": {},
   "source": [
    "ref :\n",
    "- https://colab.research.google.com/drive/1nSinJO99fD85u3KtH9vHkIqda9stiLwb?usp=sharing#scrollTo=f0O9Jm1bNVS3\n",
    "- https://github.com/langchain-ai/langchain/blob/master/cookbook/Multi_modal_RAG.ipynb"
   ]
  },
  {
   "cell_type": "code",
   "execution_count": 2,
   "metadata": {},
   "outputs": [],
   "source": [
    "# ! pip install transformers bitsandbytes==0.41.3 accelerate==0.25.0 -q\n",
    "# ! pip install -q git+https://github.com/openai/whisper.git\n",
    "# ! pip install gradio -q\n",
    "# ! pip install -q gTTS"
   ]
  },
  {
   "cell_type": "code",
   "execution_count": null,
   "metadata": {},
   "outputs": [],
   "source": []
  }
 ],
 "metadata": {
  "kernelspec": {
   "display_name": "Python 3",
   "language": "python",
   "name": "python3"
  },
  "language_info": {
   "codemirror_mode": {
    "name": "ipython",
    "version": 3
   },
   "file_extension": ".py",
   "mimetype": "text/x-python",
   "name": "python",
   "nbconvert_exporter": "python",
   "pygments_lexer": "ipython3",
   "version": "3.11.8"
  }
 },
 "nbformat": 4,
 "nbformat_minor": 2
}
